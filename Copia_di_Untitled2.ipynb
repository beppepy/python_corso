{
  "nbformat": 4,
  "nbformat_minor": 0,
  "metadata": {
    "colab": {
      "name": "Copia di Untitled2.ipynb",
      "provenance": [],
      "authorship_tag": "ABX9TyN3AI+UVJDXHhTKptXXBAaW",
      "include_colab_link": true
    },
    "kernelspec": {
      "name": "python3",
      "display_name": "Python 3"
    }
  },
  "cells": [
    {
      "cell_type": "markdown",
      "metadata": {
        "id": "view-in-github",
        "colab_type": "text"
      },
      "source": [
        "<a href=\"https://colab.research.google.com/github/beppepy/python_corso/blob/main/Copia_di_Untitled2.ipynb\" target=\"_parent\"><img src=\"https://colab.research.google.com/assets/colab-badge.svg\" alt=\"Open In Colab\"/></a>"
      ]
    },
    {
      "cell_type": "code",
      "metadata": {
        "id": "GzVPn1k-EvFe",
        "outputId": "b700fe0a-9bed-47c1-a455-84f7a2bb6fac",
        "colab": {
          "base_uri": "https://localhost:8080/",
          "height": 85
        }
      },
      "source": [
        " # inserimento valore numerico\n",
        " lato = float(input('Quanto misura il lato? '))\n",
        " print(\"L'area del quadrato è:\", lato**2)\n",
        " print('Il perimetro del quadrato è:', lato * 4)\n",
        " print('Il perimetro del quadrato di lato', lato, 'è:', lato * 4)\n"
      ],
      "execution_count": null,
      "outputs": [
        {
          "output_type": "stream",
          "text": [
            "Quanto misura il lato? 2\n",
            "L'area del quadrato è: 4.0\n",
            "Il perimetro del quadrato è: 8.0\n",
            "Il perimetro del quadrato di lato 2.0 è: 8.0\n"
          ],
          "name": "stdout"
        }
      ]
    }
  ]
}